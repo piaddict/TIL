{
 "cells": [
  {
   "cell_type": "markdown",
   "metadata": {},
   "source": [
    "# 컴퓨터에서의 계산\n",
    "\n",
    "## 서론\n",
    "\n",
    "컴퓨터를 사용하여 행렬계산을 시행해보자\n",
    "\n",
    "컴퓨터로 수치를 계산할 때는 다음 사항에 유의해야 한다\n",
    "\n",
    "- 수치의 정밀도는 유한하다\n",
    "- 계산량/메모리 소비량을 최소화 해야한다\n",
    "\n",
    "## 덧셈, 뺄셈, 곱셈, 나눗셈\n",
    "\n",
    "LU분해 이전 사칙연산을 연습해보자\n"
   ]
  },
  {
   "cell_type": "code",
   "execution_count": 22,
   "metadata": {},
   "outputs": [
    {
     "name": "stdout",
     "output_type": "stream",
     "text": [
      "[[ 6  8]\n",
      " [10 12]]\n",
      "[[-4 -4]\n",
      " [-4 -4]]\n",
      "[[19 22]\n",
      " [43 50]]\n",
      "[[0.2        0.33333333]\n",
      " [0.42857143 0.5       ]]\n"
     ]
    }
   ],
   "source": [
    "import numpy as np\n",
    "\n",
    "a = np.matrix('1 2; 3 4')\n",
    "b = np.matrix('5 6; 7 8')\n",
    "\n",
    "# 행렬 합\n",
    "print(a + b)\n",
    "\n",
    "# 행렬 차\n",
    "print(a - b)\n",
    "\n",
    "# 행렬 곱\n",
    "print(a * b)\n",
    "\n",
    "# 행렬 나누기\n",
    "print(a / b)\n"
   ]
  },
  {
   "cell_type": "markdown",
   "metadata": {},
   "source": [
    "## LU 분해\n",
    "\n",
    "컴퓨터로 수치 계산을 할 때는 LU 분해가 많이 활용된다\n",
    "\n",
    "### 정의\n",
    "\n",
    "주어진 행렬 A에 대해 A를 하삼각행렬 L과 상삼각행렬 U의 곱으로 나타내는 것을 LU 분해라고 한다."
   ]
  },
  {
   "cell_type": "code",
   "execution_count": 23,
   "metadata": {
    "scrolled": true
   },
   "outputs": [
    {
     "name": "stdout",
     "output_type": "stream",
     "text": [
      "[[2. 6. 4.]\n",
      " [5. 7. 9.]]\n",
      "(array([[0., 1.],\n",
      "       [1., 0.]]), array([[1. , 0. ],\n",
      "       [0.4, 1. ]]), array([[5. , 7. , 9. ],\n",
      "       [0. , 3.2, 0.4]]))\n"
     ]
    }
   ],
   "source": [
    "from scipy import linalg\n",
    "import numpy as np\n",
    "\n",
    "x = np.matrix('2 6 4; 5 7 9')\n",
    "\n",
    "# LU분해\n",
    "print(np.matrix('1 0; 2.5 1') * np.matrix('2 6 4; 0 -8 -1'))\n",
    "print(linalg.lu(x))\n"
   ]
  },
  {
   "cell_type": "markdown",
   "metadata": {},
   "source": [
    "### 분해의 이유\n",
    "\n",
    "LU 분해를 하면 L이나 U의 형태를 이용하여 행렬식을 구하거나 일차방정식을 풀거나 하는것이 간단해진다.\n",
    "\n",
    "### 처음에 분해가 가능한가\n",
    "\n",
    "상삼각 / 하삼각 행렬의 원소를 미지수로 두고 곱한 값이 처음 행렬이 되도록 설정하면 된다 (둘 중 하나는 대각원소가 1이어도 됨 - 중복영역)\n",
    "\n",
    "보통의 경우 LU로 분해되나 반드시 분해되는 것은 아니다\n",
    "\n",
    "### LU 분해의 계산량\n",
    "\n",
    "주로 정방행렬이 계산에 사용되므로 정방행렬로 계산량을 구해보자\n",
    "\n",
    "$A_{ij}$ 행렬에 대해 곱셈 j회, 뺄셈 (j - 1)회, 나눗셈 j회 (각 열마다)\n",
    "\n",
    "## LU 분해의 순서: 보통의 경우\n",
    "\n",
    "m x n 행렬 $A = (a_{ij})$에 대해 $s = min(m, n)$ 으로 두고 A = LU 분해하는 것을 생각해보자\n",
    "\n",
    "## LU 분해로 행렬식 구하기\n",
    "\n",
    "정방행렬 A = LU 로 분해되어 있다면 $\\det A$ 바로 구할 수 있다.\n",
    "\n",
    "곱의 행렬식은 행렬식의 곱이므로\n",
    "\n",
    "$\\det A = \\det (LU) = (\\det L)(\\det U)$\n",
    "\n",
    "따라서 $\\det L$과 $\\det U$을 구하면 된다\n",
    "그런데 하삼각/상삼각 행렬식은 대각성분의 곱이므로 $\\det L$은 1이므로\n",
    "\n",
    "$\\det A = $U의 대각성분 곱이다.\n"
   ]
  }
 ],
 "metadata": {
  "kernelspec": {
   "display_name": "Python 3",
   "language": "python",
   "name": "python3"
  },
  "language_info": {
   "codemirror_mode": {
    "name": "ipython",
    "version": 3
   },
   "file_extension": ".py",
   "mimetype": "text/x-python",
   "name": "python",
   "nbconvert_exporter": "python",
   "pygments_lexer": "ipython3",
   "version": "3.6.5"
  }
 },
 "nbformat": 4,
 "nbformat_minor": 2
}
