{
 "cells": [
  {
   "cell_type": "markdown",
   "metadata": {},
   "source": [
    "# 벡터 행렬 행렬식\n",
    "\n",
    "<http://matrix.skku.ac.kr/LA-Lab/>\n",
    "\n",
    "numpy matrix reference : <https://docs.scipy.org/doc/numpy/reference/generated/numpy.matrix.html#numpy.matrix>\n",
    "\n",
    "## 선형대수를 배우는 이유\n",
    "\n",
    "### 공간인식\n",
    "\n",
    "선형대수를 사용하는 벡터공간은 현실 공간의 성질을 추상화한것\n",
    "데이터를 다룰 때는 공간과 직접적인 관계가 없으나, 데이터를 고차원 공간내의 점으로 생각할 수 있음\n",
    "\n",
    "### 근사수단\n",
    "\n",
    "선형대수가 다루는 것은 선형적인 데이터임\n",
    "곡면을 다룰 때는 충분히 확대해서 보면 선형이 됨, 혹은 직선으로 근사함\n",
    "\n",
    "## 벡터와 공간\n",
    "\n",
    "데이터를 수치의 조합이 아닌 **공간안의 점**으로 간주 하여 다루자\n",
    "\n",
    "### 수치의 조합으로 정리\n",
    "\n",
    "수를 나열한 것을 벡터라고 부름, 책에서는 세로로 늘어선 종벡터를 기본으로 사용"
   ]
  },
  {
   "cell_type": "code",
   "execution_count": 1,
   "metadata": {},
   "outputs": [
    {
     "name": "stdout",
     "output_type": "stream",
     "text": [
      "[[2]\n",
      " [5]]\n",
      "[[6]\n",
      " [3]\n",
      " [3]]\n"
     ]
    }
   ],
   "source": [
    "import numpy as np\n",
    "\n",
    "a = np.matrix('2; 5')\n",
    "b = np.matrix('6 3 3')\n",
    "\n",
    "print(a)\n",
    "print(b.getT()) # transpose"
   ]
  },
  {
   "cell_type": "markdown",
   "metadata": {},
   "source": [
    "데이터 구조를 정의했으므로 연산을 정의해보자"
   ]
  },
  {
   "cell_type": "code",
   "execution_count": 2,
   "metadata": {},
   "outputs": [
    {
     "name": "stdout",
     "output_type": "stream",
     "text": [
      "[[ 9]\n",
      " [14]\n",
      " [ 7]]\n",
      "[[ 6]\n",
      " [27]\n",
      " [12]]\n"
     ]
    }
   ],
   "source": [
    "a = np.matrix('2; 9; 4')\n",
    "b = np.matrix('7; 5; 3')\n",
    "\n",
    "print(a + b) # 같은 차원의 벡터 더하기\n",
    "\n",
    "x = np.matrix('2; 9; 4')\n",
    "\n",
    "print(3 * x) # 스칼라연산"
   ]
  },
  {
   "cell_type": "markdown",
   "metadata": {},
   "source": [
    "$x + y = y + x$ : 교환\n",
    "\n",
    "$(x + y) + z = x + (y + z)$ : 결합\n",
    "\n",
    "$x + 0 = x$\n",
    "\n",
    "$x + (-x) = 0$\n",
    "\n",
    "$c(x + y) = cx + cy$ : 분배\n",
    "\n",
    "$(c + c`)x = cx + c`x$ : 분배"
   ]
  },
  {
   "cell_type": "markdown",
   "metadata": {},
   "source": [
    "### 공간의 이미지\n",
    "\n",
    "일차원 벡터 $x$와 수 $x$를 동일시 하는 것은 자연스럽다.\n",
    "\n",
    "하지만 대부분의 프로그래밍 언어에서는 크기 1인 배열과 수치는 다르므로 명시적인 변환이 필요함\n",
    "\n",
    "### 기저 (basis)\n",
    "\n",
    "원점을 기준으로 덧셈과 정수배(선형결합: linear combination)가 정의된 세계를 벡터공간(선형공간)이라고 함\n",
    "\n",
    "선형결합만을 가정하면 행렬은 벡터의 성질을 보유함 (곱 연산등은 dimension이 변하므로 해당하지 않음)\n",
    "\n",
    "선형공간은 현실을 추상화 한것, 영(0)벡터만 특별하고 그외에는 대등\n",
    "\n",
    "길이나 각도가 정의되어 있지않으므로 다른 방향의 벡터끼리 대소 비교 할 수 없음, 회전이라는 작업도 정의할 수 없음\n",
    "\n",
    "> 내적과 외적: 내적과 외적은 좌표에 의존하므로 합과 정수배 이외의 새로운 연산을 거친 이후 구해야 함. 특히 외적의 경우는 직관성에서 3차원에 특화된 개념이므로 고차원 외적의 개념을 따로 다루지는 않을 예정\n",
    "\n",
    "> 원점을 사용하지 않는 공간 (아핀 공간)은 책에서 다루지 않는 내용\n",
    "\n",
    "**선형독립적인 벡터들의 조합을 통해 해당 공간내 어떠한 벡터라도 만들수 있는 경우 이를 기저 벡터라고 함**\n",
    "\n",
    "> 선형 독립 조건: $c_{1}x_{1} + c_{2}x_{2} + \\cdots + c_{n}x_{n} \\neq 0, except for all c_{i} = 0$\n",
    "\n",
    "두 벡터만을 놓고 본다면 동일 선상에 놓여있을 때 dependent 하지만,\n",
    "여러 벡터가 함께 고려되는 경우 직관적으로 independent 하더라도 실제로는 dependent 할 수 있다.\n",
    "\n",
    "참고 : <http://twlab.tistory.com/24>\n"
   ]
  }
 ],
 "metadata": {
  "kernel_info": {
   "name": "python3"
  },
  "kernelspec": {
   "display_name": "Python 3",
   "language": "python",
   "name": "python3"
  },
  "language_info": {
   "codemirror_mode": {
    "name": "ipython",
    "version": 3
   },
   "file_extension": ".py",
   "mimetype": "text/x-python",
   "name": "python",
   "nbconvert_exporter": "python",
   "pygments_lexer": "ipython3",
   "version": "3.6.5"
  },
  "nteract": {
   "version": "0.9.0"
  }
 },
 "nbformat": 4,
 "nbformat_minor": 2
}
